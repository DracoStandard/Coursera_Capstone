{
    "cells": [
        {
            "cell_type": "markdown",
            "metadata": {
                "collapsed": true
            },
            "source": "<h1>Covid rates and venue density</h1>"
        },
        {
            "cell_type": "markdown",
            "metadata": {},
            "source": "<h2>The Problem</h2>"
        },
        {
            "cell_type": "markdown",
            "metadata": {},
            "source": "Covid-19 infection rates have varied across the world, with different regions showing flare ups at different times.  As the UK reopens hospitality venues across the country, is there a link between concentrations of these venues and the flare ups.  This information would be helpful for local authorities to manage local lock down rules and effectively target types of venue that are more active where the virus has been more active."
        },
        {
            "cell_type": "markdown",
            "metadata": {},
            "source": "<h2>The Data</h2>"
        },
        {
            "cell_type": "markdown",
            "metadata": {},
            "source": "National Covid-19 infection rates from ONS by region are available via API from https://coronavirus.data.gov.uk.  I will collect regional cumulative total infections from this API.\nIn order to get enough venues I will use smaller regions and then aggregate, so will use the ONS centroids for census data regions to build up to local authority regions (for which the CV-19 data is available).  The centroids are in BGS form, so need to be translated to longitude and latitude.\nVenue data comes from FourSquare via the API using the centroids for each census regions.\nVenues will need to be categorised to the top level category to allow groups as pubs/restaurants etc.  of various types from within the region and the proportion of venues in the type \u2018nightlife\u2019(pubs in this case) and \u2018food\u2019 (restaurants).  \nTo maintain equivalence between regions, the infections will be taken as infections/region population and normalised to a 0-1 scale.\nThis will require the ONS population data.  This is only available as a interactive Excel sheet, so needs to be processed into a CSV before using.\n"
        }
    ],
    "metadata": {
        "kernelspec": {
            "display_name": "Python 3.6",
            "language": "python",
            "name": "python3"
        },
        "language_info": {
            "codemirror_mode": {
                "name": "ipython",
                "version": 3
            },
            "file_extension": ".py",
            "mimetype": "text/x-python",
            "name": "python",
            "nbconvert_exporter": "python",
            "pygments_lexer": "ipython3",
            "version": "3.6.9"
        }
    },
    "nbformat": 4,
    "nbformat_minor": 1
}